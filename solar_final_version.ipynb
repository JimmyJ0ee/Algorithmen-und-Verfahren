{
 "cells": [
  {
   "cell_type": "code",
   "execution_count": 1,
   "id": "92202227-c7cd-4b0c-8481-0f21bd080271",
   "metadata": {},
   "outputs": [],
   "source": [
    "import numpy as np\n",
    "import sklearn\n",
    "import matplotlib.pyplot as plt\n",
    "import pandas as pd\n",
    "from sklearn import ensemble\n",
    "import seaborn as sns"
   ]
  },
  {
   "cell_type": "markdown",
   "id": "10a702f2-01ce-4f6a-9b71-47f5b3946cd5",
   "metadata": {},
   "source": [
    "# Laden der Daten"
   ]
  },
  {
   "cell_type": "code",
   "execution_count": 2,
   "id": "fd7b5f3d-4d0a-4020-b7c9-00a365282b08",
   "metadata": {},
   "outputs": [
    {
     "name": "stdout",
     "output_type": "stream",
     "text": [
      "        timestamp  power  rain  temperature\n",
      "0      1561939800    0.0   NaN          NaN\n",
      "1      1561940400    0.0   NaN          NaN\n",
      "2      1561941000    0.0   NaN          NaN\n",
      "3      1561941600    0.0   NaN          NaN\n",
      "4      1561942200    0.0   NaN          NaN\n",
      "...           ...    ...   ...          ...\n",
      "17854  1627773900    NaN   0.0          NaN\n",
      "17855  1627775700    NaN   0.0          NaN\n",
      "17856  1561939200    NaN   NaN         21.0\n",
      "17857  1593561600    NaN   NaN         21.6\n",
      "17858  1625097600    NaN   NaN         22.3\n",
      "\n",
      "[17859 rows x 4 columns]\n",
      "        timestamp  power  rain  temperature\n",
      "0      1561939800    0.0   0.0          0.0\n",
      "1      1561940400    0.0   0.0          0.0\n",
      "2      1561941000    0.0   0.0          0.0\n",
      "3      1561941600    0.0   0.0          0.0\n",
      "4      1561942200    0.0   0.0          0.0\n",
      "...           ...    ...   ...          ...\n",
      "17854  1627773900    0.0   0.0          0.0\n",
      "17855  1627775700    0.0   0.0          0.0\n",
      "17856  1561939200    0.0   0.0         21.0\n",
      "17857  1593561600    0.0   0.0         21.6\n",
      "17858  1625097600    0.0   0.0         22.3\n",
      "\n",
      "[17859 rows x 4 columns]\n"
     ]
    }
   ],
   "source": [
    "#Datum wird in der Einheit \"timestamp\" geladen -> Umwandlung extern in Powershell vorgenommen\n",
    "power_timestamps = pd.read_csv(\"power_outputedit_timestamps.csv\", sep=\",\", usecols=(0,1))\n",
    "rain_timestamps = pd.read_csv(\"rainedit_timestamps.csv\", sep=\",\", usecols=(0,1))\n",
    "temp_timestamps = pd.read_csv(\"temperaturesedit_timestamps.csv\", sep=\",\", usecols=(0,1))\n",
    "\n",
    "#Zusammenführen der Daten in einem Dataframe\n",
    "jointFrame_timestamps = pd.merge(power_timestamps, rain_timestamps, how=\"outer\", on=\"timestamp\")\n",
    "jointFrame_timestamps_2 = pd.merge(jointFrame_timestamps, temp_timestamps, how=\"outer\", on=\"timestamp\")\n",
    "print(jointFrame_timestamps_2)\n",
    "\n",
    "#NaNs werden mit 0en gefüllt\n",
    "jointFrame_timestamps_2[\"power\"] = jointFrame_timestamps_2[\"power\"].fillna(0).astype(float)\n",
    "jointFrame_timestamps_2[\"rain\"] = jointFrame_timestamps_2[\"rain\"].fillna(0).astype(float)\n",
    "jointFrame_timestamps_2[\"temperature\"] = jointFrame_timestamps_2[\"temperature\"].fillna(0).astype(float)\n",
    "print(jointFrame_timestamps_2)"
   ]
  },
  {
   "cell_type": "markdown",
   "id": "4cbb41a7-1cc0-41e0-a2e5-ba795fd45e41",
   "metadata": {},
   "source": [
    "# Daten plotten"
   ]
  },
  {
   "cell_type": "code",
   "execution_count": 3,
   "id": "e99774c3-b744-4163-90a3-503b308a4db4",
   "metadata": {},
   "outputs": [
    {
     "data": {
      "image/png": "[encoded data removed]",
      "text/plain": [
       "<Figure size 432x288 with 1 Axes>"
      ]
     },
     "metadata": {
      "needs_background": "light"
     },
     "output_type": "display_data"
    },
    {
     "data": {
      "image/png": "[encoded data removed]",
      "text/plain": [
       "<Figure size 432x288 with 1 Axes>"
      ]
     },
     "metadata": {
      "needs_background": "light"
     },
     "output_type": "display_data"
    }
   ],
   "source": [
    "#Definition x,y und z Werte\n",
    "xpoints=jointFrame_timestamps_2[\"timestamp\"]\n",
    "ypoints=jointFrame_timestamps_2[\"rain\"]\n",
    "zpoints=jointFrame_timestamps_2[\"temperature\"]\n",
    "apoints=jointFrame_timestamps_2[\"power\"]\n",
    "\n",
    "#Plotten\n",
    "plt.scatter(xpoints, ypoints)\n",
    "plt.scatter(xpoints, zpoints)\n",
    "plt.show()\n",
    "plt.scatter(xpoints, apoints)\n",
    "plt.show()"
   ]
  },
  {
   "cell_type": "markdown",
   "id": "9cd82917",
   "metadata": {},
   "source": [
    "Erklärung: Die Plotts zeigen den Power-Output, den Regen und die Temperaturen für die Jahre 2019-2021."
   ]
  },
  {
   "cell_type": "markdown",
   "id": "23cb5ddc",
   "metadata": {},
   "source": [
    "# Statistiken für einen Tag"
   ]
  },
  {
   "cell_type": "code",
   "execution_count": 4,
   "id": "b5ec9399",
   "metadata": {
    "jupyter": {
     "outputs_hidden": true
    },
    "tags": []
   },
   "outputs": [
    {
     "name": "stdout",
     "output_type": "stream",
     "text": [
      "\n",
      "power\n",
      "                  timestamp   power[W]\n",
      "0      2019-07-01 00:10:00          0\n",
      "1      2019-07-01 00:20:00          0\n",
      "2      2019-07-01 00:30:00          0\n",
      "3      2019-07-01 00:40:00          0\n",
      "4      2019-07-01 00:50:00          0\n",
      "...                    ...        ...\n",
      "13387  2021-07-31 23:20:00          0\n",
      "13388  2021-07-31 23:30:00          0\n",
      "13389  2021-07-31 23:40:00          0\n",
      "13390  2021-07-31 23:50:00          0\n",
      "13391  2021-08-01 00:00:00          0\n",
      "\n",
      "[13392 rows x 2 columns]\n",
      "\n",
      "rain\n",
      "                 timestamp  rain\n",
      "0     2019-07-01 00:25:00   0.0\n",
      "1     2019-07-01 00:55:00   0.0\n",
      "2     2019-07-01 01:25:00   0.0\n",
      "3     2019-07-01 01:55:00   0.0\n",
      "4     2019-07-01 02:25:00   0.0\n",
      "...                   ...   ...\n",
      "4459  2021-07-31 21:55:00   0.0\n",
      "4460  2021-07-31 22:25:00   0.0\n",
      "4461  2021-07-31 22:55:00   0.0\n",
      "4462  2021-07-31 23:25:00   0.0\n",
      "4463  2021-07-31 23:55:00   0.0\n",
      "\n",
      "[4464 rows x 2 columns]\n",
      "\n",
      "temp\n",
      "           date   Avg. Temperature[C]\n",
      "0   2019-07-01                  21.0\n",
      "1   2019-07-02                  20.4\n",
      "2   2019-07-03                  19.2\n",
      "3   2019-07-04                  20.9\n",
      "4   2019-07-05                  22.3\n",
      "..         ...                   ...\n",
      "88  2021-07-27                  16.8\n",
      "89  2021-07-28                  20.0\n",
      "90  2021-07-29                  22.6\n",
      "91  2021-07-30                  16.9\n",
      "92  2021-07-31                  21.0\n",
      "\n",
      "[93 rows x 2 columns]\n",
      "\n",
      "Df power nur mit timestamp\n",
      "                 0\n",
      "0      2019-07-01\n",
      "1      2019-07-01\n",
      "2      2019-07-01\n",
      "3      2019-07-01\n",
      "4      2019-07-01\n",
      "...           ...\n",
      "13387  2021-07-31\n",
      "13388  2021-07-31\n",
      "13389  2021-07-31\n",
      "13390  2021-07-31\n",
      "13391  2021-08-01\n",
      "\n",
      "[13392 rows x 1 columns]\n",
      "\n",
      "power\n",
      "         power[W]\n",
      "0              0\n",
      "1              0\n",
      "2              0\n",
      "3              0\n",
      "4              0\n",
      "...          ...\n",
      "13387          0\n",
      "13388          0\n",
      "13389          0\n",
      "13390          0\n",
      "13391          0\n",
      "\n",
      "[13392 rows x 1 columns]\n",
      "\n",
      "power_neu\n",
      "              date   power[W]\n",
      "0      2019-07-01          0\n",
      "1      2019-07-01          0\n",
      "2      2019-07-01          0\n",
      "3      2019-07-01          0\n",
      "4      2019-07-01          0\n",
      "...           ...        ...\n",
      "13387  2021-07-31          0\n",
      "13388  2021-07-31          0\n",
      "13389  2021-07-31          0\n",
      "13390  2021-07-31          0\n",
      "13391  2021-08-01          0\n",
      "\n",
      "[13392 rows x 2 columns]\n",
      "\n",
      "power nach groupby\n",
      " date             \n",
      "2019-07-01  0        0\n",
      "            1        0\n",
      "            2        0\n",
      "            3        0\n",
      "            4        0\n",
      "                    ..\n",
      "2021-07-31  13387    0\n",
      "            13388    0\n",
      "            13389    0\n",
      "            13390    0\n",
      "2021-08-01  13391    0\n",
      "Length: 13392, dtype: int64\n",
      "\n",
      "rain_splitted\n",
      "                0\n",
      "0     2019-07-01\n",
      "1     2019-07-01\n",
      "2     2019-07-01\n",
      "3     2019-07-01\n",
      "4     2019-07-01\n",
      "...          ...\n",
      "4459  2021-07-31\n",
      "4460  2021-07-31\n",
      "4461  2021-07-31\n",
      "4462  2021-07-31\n",
      "4463  2021-07-31\n",
      "\n",
      "[4464 rows x 1 columns]\n",
      "\n",
      "rain\n",
      "       rain\n",
      "0      0.0\n",
      "1      0.0\n",
      "2      0.0\n",
      "3      0.0\n",
      "4      0.0\n",
      "...    ...\n",
      "4459   0.0\n",
      "4460   0.0\n",
      "4461   0.0\n",
      "4462   0.0\n",
      "4463   0.0\n",
      "\n",
      "[4464 rows x 1 columns]\n",
      "\n",
      "rain\n",
      "             date  rain\n",
      "0     2019-07-01   0.0\n",
      "1     2019-07-01   0.0\n",
      "2     2019-07-01   0.0\n",
      "3     2019-07-01   0.0\n",
      "4     2019-07-01   0.0\n",
      "...          ...   ...\n",
      "4459  2021-07-31   0.0\n",
      "4460  2021-07-31   0.0\n",
      "4461  2021-07-31   0.0\n",
      "4462  2021-07-31   0.0\n",
      "4463  2021-07-31   0.0\n",
      "\n",
      "[4464 rows x 2 columns]\n",
      "\n",
      "rain_nach_groupbyn date            \n",
      "2019-07-01  0       0.0\n",
      "            1       0.0\n",
      "            2       0.0\n",
      "            3       0.0\n",
      "            4       0.0\n",
      "                   ... \n",
      "2021-07-31  4459    0.0\n",
      "            4460    0.0\n",
      "            4461    0.0\n",
      "            4462    0.0\n",
      "            4463    0.0\n",
      "Length: 4464, dtype: float64\n",
      "\n",
      "rain_lists\n",
      " [0, 0, 0, 0, 0, 407, 352, 0, 0, 36, 0, 451, 136, 0, 0, 0, 0, 0, 0, 0, 0, 0, 221, 0, 0, 0, 320, 0, 0, 0, 1024] \n",
      " [0, 0, 0, 0, 1082, 0, 0, 0, 0, 0, 0, 0, 530, 0, 0, 0, 0, 128, 0, 0, 0, 435, 0, 937, 0, 0, 0, 0, 0, 0, 0] \n",
      " [0, 0, 0, 0, 0, 0, 0, 0, 0, 0, 0, 0, 140, 0, 218, 209, 0, 0, 0, 0, 127, 250, 0, 0, 75, 0, 456, 0, 0, 304, 0] \n",
      "\n",
      "\n",
      "rain_day_19,20,21\n",
      " [0, 0, 0, 0, 0, 1, 1, 0, 0, 1, 0, 1, 1, 0, 0, 0, 0, 0, 0, 0, 0, 0, 1, 0, 0, 0, 1, 0, 0, 0, 1] 31 \n",
      " [0, 0, 0, 0, 1, 0, 0, 0, 0, 0, 0, 0, 1, 0, 0, 0, 0, 1, 0, 0, 0, 1, 0, 1, 0, 0, 0, 0, 0, 0, 0] 31 \n",
      " [0, 0, 0, 0, 0, 0, 0, 0, 0, 0, 0, 0, 1, 0, 1, 1, 0, 0, 0, 0, 1, 1, 0, 0, 1, 0, 1, 0, 0, 1, 0] 31\n",
      "\n",
      "rainy days in summer 2019, 2020, 2021\n",
      "raindays_19: 8\n",
      "raindays_20: 5\n",
      "raindays_21: 8\n",
      "\n",
      " sunny days in summer 2019, 2020, 2021\n",
      "sunnydays_19: 23\n",
      "sunnydays_20: 26\n",
      "sunnydays_21: 23\n",
      "\n",
      " 93\n",
      "\n",
      "Temperaturliste an Regentagen\n",
      "           date   Avg. Temperature[C]\n",
      "5   2019-07-06                  18.5\n",
      "6   2019-07-07                  16.0\n",
      "9   2019-07-10                  18.6\n",
      "11  2019-07-12                  18.5\n",
      "12  2019-07-13                  15.4\n",
      "22  2019-07-23                  16.6\n",
      "26  2019-07-27                  15.7\n",
      "30  2019-07-31                  16.3\n",
      "35  2020-07-05                  16.2\n",
      "43  2020-07-13                  17.6\n",
      "48  2020-07-18                  17.5\n",
      "52  2020-07-22                  16.8\n",
      "54  2020-07-24                  17.1\n",
      "74  2021-07-13                  18.8\n",
      "76  2021-07-15                  18.6\n",
      "77  2021-07-16                  18.6\n",
      "82  2021-07-21                  16.2\n",
      "83  2021-07-22                  15.9\n",
      "86  2021-07-25                  17.6\n",
      "88  2021-07-27                  16.8\n",
      "91  2021-07-30                  16.9\n",
      "\n",
      "Temperaturliste an Sonnentagen\n",
      "           date   Avg. Temperature[C]\n",
      "0   2019-07-01                  21.0\n",
      "1   2019-07-02                  20.4\n",
      "2   2019-07-03                  19.2\n",
      "3   2019-07-04                  20.9\n",
      "4   2019-07-05                  22.3\n",
      "..         ...                   ...\n",
      "85  2021-07-24                  19.2\n",
      "87  2021-07-26                  22.8\n",
      "89  2021-07-28                  20.0\n",
      "90  2021-07-29                  22.6\n",
      "92  2021-07-31                  21.0\n",
      "\n",
      "[72 rows x 2 columns]\n"
     ]
    },
    {
     "name": "stderr",
     "output_type": "stream",
     "text": [
      "C:\\Users\\Z0127829\\Anaconda3\\envs\\Algo_tensorflow\\lib\\site-packages\\numpy\\core\\fromnumeric.py:84: FutureWarning: Dropping of nuisance columns in DataFrame reductions (with 'numeric_only=None') is deprecated; in a future version this will raise TypeError.  Select only valid columns before calling the reduction.\n",
      "  return reduction(axis=axis, out=out, **passkwargs)\n",
      "C:\\Users\\Z0127829\\Anaconda3\\envs\\Algo_tensorflow\\lib\\site-packages\\numpy\\core\\fromnumeric.py:84: FutureWarning: Dropping of nuisance columns in DataFrame reductions (with 'numeric_only=None') is deprecated; in a future version this will raise TypeError.  Select only valid columns before calling the reduction.\n",
      "  return reduction(axis=axis, out=out, **passkwargs)\n"
     ]
    }
   ],
   "source": [
    "#Laden der Daten in folgendem Datumsformat yyyy-mm-dd hh:mm:ss\n",
    "power = pd.read_csv(\"power_output.csv\", sep=\",\", usecols=(0,1))\n",
    "rain = pd.read_csv(\"rainedit.csv\", sep=\",\", usecols=(0,1))\n",
    "temp = pd.read_csv(\"C:temperatures.csv\", sep=\",\", usecols=(0,1))\n",
    "print('\\npower\\n',power)\n",
    "print('\\nrain\\n', rain)\n",
    "print('\\ntemp\\n', temp)\n",
    "#Formatierung Power-Datei\n",
    "\n",
    "#Datum von Timestamp getrennt und Timestamp aus Df entfernt\n",
    "power_splitted = power[\"timestamp\"].str.split(\" \", n=1, expand=True)\n",
    "power_splitted = power_splitted.drop([1], axis =1)\n",
    "print('\\nDf power nur mit timestamp\\n',power_splitted)\n",
    "\n",
    "#1. Spalte der power Tabelle entfernt\n",
    "power = power.drop(['timestamp'], axis =1)\n",
    "print('\\npower\\n',power)\n",
    "\n",
    "#Zusammenführen des Datum Df und des Regen Df in einen Df\n",
    "power = pd.merge(power_splitted, power, how=\"left\", left_index=True, right_index=True)\n",
    "power = power.rename(columns={0:'date'})\n",
    "print('\\npower_neu\\n',power)\n",
    "\n",
    "#mit Groupby Daten nach Tagen sortieren und mit apply die Summenfunktion auf die Power-Daten anwenden\n",
    "power = power.groupby(['date']).apply(np.sum, axis=1)\n",
    "print('\\npower nach groupby\\n',power)\n",
    "\n",
    "#Formatierung Rain-Datei\n",
    "\n",
    "#Entfernen des Stunden:Minuten:Sekunden Ausdrucks aus dem Df\n",
    "rain_splitted = rain[\"timestamp\"].str.split(\" \", n=1, expand=True)\n",
    "rain_splitted = rain_splitted.drop([1], axis =1)\n",
    "print('\\nrain_splitted\\n', rain_splitted)\n",
    "\n",
    "#Datum aus Tabelle entfernt \n",
    "rain = rain.drop(['timestamp'], axis =1)\n",
    "print('\\nrain\\n',rain)\n",
    "\n",
    "#Zusammenführen des Datum Df und des Regen Df in einen Df\n",
    "rain = pd.merge(rain_splitted, rain, how=\"left\", left_index=True, right_index=True)\n",
    "rain = rain.rename(columns={0:'date'})\n",
    "print('\\nrain\\n',rain)\n",
    "\n",
    "#mit Groupby Daten nach Tagen sortieren und mit apply die Summenfunktion auf die raindaten anwenden\n",
    "rain = rain.groupby(['date']).apply(np.sum, axis=1)\n",
    "print('\\nrain_nach_groupbyn',rain)\n",
    "\n",
    "#Listenelemente sind der Regen in mm/Tag\n",
    "rain_list_2019=[]\n",
    "rain_list_2020=[]\n",
    "rain_list_2021=[]\n",
    "\n",
    "for i in range (1,10):\n",
    "    rain_list_2019.append(round(sum(rain.loc[f'2019-07-0{i}'])))\n",
    "    rain_list_2020.append(round(sum(rain.loc[f'2020-07-0{i}'])))\n",
    "    rain_list_2021.append(round(sum(rain.loc[f'2021-07-0{i}'])))\n",
    "for j in range (10,32):\n",
    "    rain_list_2019.append(round(sum(rain.loc[f'2019-07-{j}'])))\n",
    "    rain_list_2020.append(round(sum(rain.loc[f'2020-07-{j}'])))\n",
    "    rain_list_2021.append(round(sum(rain.loc[f'2021-07-{j}'])))\n",
    "print('\\nrain_lists\\n',rain_list_2019,'\\n', rain_list_2020,'\\n', rain_list_2021,'\\n')\n",
    "\n",
    "#Problem mit append: 406.8 ist die Summe des Regens für rain_01_2019, jedoch wird 407 in die Liste geschrieben!\n",
    "#-> für vernachlässigbar erachtet!\n",
    "\n",
    "#listen rain_day_20** geben an, ob es ein Regentag war oder nicht (1 = Regentag)\n",
    "rain_day_2019=[]\n",
    "rain_day_2020=[]\n",
    "rain_day_2021=[]\n",
    "\n",
    "#num_... geben an, wie viele Regentage es in diesem Jahr gab\n",
    "num_raindays_juli19=0\n",
    "num_raindays_juli20=0\n",
    "num_raindays_juli21=0\n",
    "for h in range(31):\n",
    "    if rain_list_2019[h]==0:\n",
    "        rain_day_2019.append(0)\n",
    "    else: \n",
    "        rain_day_2019.append(1)\n",
    "        num_raindays_juli19=num_raindays_juli19+1\n",
    "        \n",
    "    if rain_list_2020[h]==0:\n",
    "        rain_day_2020.append(0)\n",
    "    else: \n",
    "        rain_day_2020.append(1)\n",
    "        num_raindays_juli20=num_raindays_juli20+1\n",
    "        \n",
    "    if rain_list_2021[h]==0:\n",
    "        rain_day_2021.append(0)\n",
    "    else: \n",
    "        rain_day_2021.append(1)\n",
    "        num_raindays_juli21=num_raindays_juli21+1\n",
    "print('\\nrain_day_19,20,21\\n', rain_day_2019, len(rain_day_2019),'\\n', rain_day_2020, len(rain_day_2020),'\\n', rain_day_2021, len(rain_day_2021))\n",
    "print(f'\\nrainy days in summer 2019, 2020, 2021\\nraindays_19: {num_raindays_juli19}\\nraindays_20: {num_raindays_juli20}\\nraindays_21: {num_raindays_juli21}')\n",
    "print(f'\\n sunny days in summer 2019, 2020, 2021\\nsunnydays_19: {31-num_raindays_juli19}\\nsunnydays_20: {31-num_raindays_juli20}\\nsunnydays_21: {31-num_raindays_juli21}')\n",
    "\n",
    "#Durchschnittswert der Temperatur an einem Regentag/Sonnentag\n",
    "rain_day_192021=rain_day_2019+rain_day_2020+rain_day_2021\n",
    "print('\\n', len(rain_day_192021))\n",
    "i=0 \n",
    "temp_0=temp.copy(deep=True)\n",
    "temp_1=temp.copy(deep=True)\n",
    "for i in range (93):\n",
    "    if rain_day_192021[i]==0:\n",
    "        temp_0=temp_0.drop([i],axis=0)\n",
    "    i=i+1\n",
    "print('\\nTemperaturliste an Regentagen\\n', temp_0)\n",
    "for i in range (93):\n",
    "    if rain_day_192021[i]==1:\n",
    "        temp_1=temp_1.drop([i],axis=0)\n",
    "    i=i+1\n",
    "print('\\nTemperaturliste an Sonnentagen\\n', temp_1)"
   ]
  },
  {
   "cell_type": "markdown",
   "id": "f45fa674-e512-4a2d-a511-917597f5a258",
   "metadata": {},
   "source": [
    "#Statistik des Power-Outputs"
   ]
  },
  {
   "cell_type": "code",
   "execution_count": 5,
   "id": "b325421a-1c19-48e0-8367-03c94ca8438f",
   "metadata": {},
   "outputs": [
    {
     "name": "stdout",
     "output_type": "stream",
     "text": [
      "power_list_2019\n",
      " [112306, 109366, 139142, 134257, 119123, 89689, 68755, 135172, 130037, 98588, 108021, 72839, 71717, 117328, 118808, 140312, 106812, 127188, 120119, 133731, 145042, 126732, 77192, 26301, 104706, 123993, 98930, 116107, 122710, 130081, 42357]\n"
     ]
    }
   ],
   "source": [
    "#Listenelemente sind der Regen in mm/Tag (2019)\n",
    "power_list_2019=[]\n",
    "for i in range (1,10):\n",
    "    power_list_2019.append(round(sum(power.loc[f'2019-07-0{i}'])))\n",
    "    #print(i)\n",
    "for j in range (10,32):\n",
    "    power_list_2019.append(round(sum(power.loc[f'2019-07-{j}'])))\n",
    "    #print(j)\n",
    "print('power_list_2019\\n',power_list_2019)"
   ]
  },
  {
   "cell_type": "code",
   "execution_count": 6,
   "id": "221e30b4-7558-4912-be0a-dea1874e0036",
   "metadata": {},
   "outputs": [
    {
     "name": "stdout",
     "output_type": "stream",
     "text": [
      "power_list_2020\n",
      " [125685, 137278, 130357, 116600, 56134, 135040, 115754, 127197, 121516, 117455, 135011, 137242, 102697, 112611, 122570, 120312, 129880, 84985, 122792, 114340, 110144, 61932, 136964, 47717, 110913, 140352, 111631, 123122, 115879, 149397, 121041]\n"
     ]
    }
   ],
   "source": [
    "#Listenelemente sind der Regen in mm/Tag (2020)\n",
    "power_list_2020=[]\n",
    "for i in range (1,10):\n",
    "    power_list_2020.append(round(sum(power.loc[f'2020-07-0{i}'])))\n",
    "    #print(i)\n",
    "for j in range (10,32):\n",
    "    power_list_2020.append(round(sum(power.loc[f'2020-07-{j}'])))\n",
    "    #print(j)\n",
    "print('power_list_2020\\n',power_list_2020)"
   ]
  },
  {
   "cell_type": "code",
   "execution_count": 7,
   "id": "525c078c-78c9-4a08-b451-4bd61fe42e2b",
   "metadata": {},
   "outputs": [
    {
     "name": "stdout",
     "output_type": "stream",
     "text": [
      "power_list_2021\n",
      " [119675, 132449, 95060, 107025, 113129, 123770, 137316, 136099, 124071, 115346, 125286, 114967, 87677, 135673, 78725, 79219, 126434, 133701, 112069, 137387, 95498, 86355, 126147, 125626, 106779, 124601, 56889, 152846, 143659, 75355, 128984]\n"
     ]
    }
   ],
   "source": [
    "#Listenelemente sind der Regen in mm/Tag (2021)\n",
    "power_list_2021=[]\n",
    "for i in range (1,10):\n",
    "    power_list_2021.append(round(sum(power.loc[f'2021-07-0{i}'])))\n",
    "    #print(i)\n",
    "for j in range (10,32):\n",
    "    power_list_2021.append(round(sum(power.loc[f'2021-07-{j}'])))\n",
    "    #print(j)\n",
    "print('power_list_2021\\n',power_list_2021)"
   ]
  },
  {
   "cell_type": "markdown",
   "id": "184b8441-3eac-422b-ba4c-0c5925987983",
   "metadata": {},
   "source": [
    "#powerschnitt regentag 2019"
   ]
  },
  {
   "cell_type": "code",
   "execution_count": 8,
   "id": "b17e7bd4-ef07-457b-ab23-62c40c47f60f",
   "metadata": {},
   "outputs": [
    {
     "name": "stdout",
     "output_type": "stream",
     "text": [
      "[89689, 68755, 98588, 72839, 71717, 77192, 98930, 42357]\n",
      "summe power an regentagen 2019: 620067\n",
      "Durchschnittspower an Regentag in 2019: 77508.375\n"
     ]
    }
   ],
   "source": [
    "rain_pwr_2019=[]\n",
    "for k in range(31):\n",
    "    if rain_day_2019[k] ==1:\n",
    "        rain_pwr_2019.append(power_list_2019[k])\n",
    "print (rain_pwr_2019)\n",
    "\n",
    "summepoweranregentag2019=0\n",
    "for element in rain_pwr_2019:\n",
    "    summepoweranregentag2019+=element\n",
    "print('summe power an regentagen 2019:',summepoweranregentag2019)\n",
    "pwr_2019 = summepoweranregentag2019/len(rain_pwr_2019)\n",
    "print('Durchschnittspower an Regentag in 2019:',pwr_2019)"
   ]
  },
  {
   "cell_type": "markdown",
   "id": "5cd93e7c-7796-47fd-8813-bdb4de44cf07",
   "metadata": {},
   "source": [
    "#powerschnitt regentag 2020"
   ]
  },
  {
   "cell_type": "code",
   "execution_count": 9,
   "id": "0427924a-e746-426d-840e-937ecb60d12b",
   "metadata": {},
   "outputs": [
    {
     "name": "stdout",
     "output_type": "stream",
     "text": [
      "[56134, 102697, 84985, 61932, 47717]\n",
      "summe power an regentagen 2020: 353465\n",
      "Durchschnittspower an Regentag in 2020: 70693.0\n"
     ]
    }
   ],
   "source": [
    "rain_pwr_2020=[]\n",
    "for k in range(31):\n",
    "    if rain_day_2020[k] ==1:\n",
    "        rain_pwr_2020.append(power_list_2020[k])\n",
    "print (rain_pwr_2020)\n",
    "\n",
    "summepoweranregentag2020=0\n",
    "for element in rain_pwr_2020:\n",
    "    summepoweranregentag2020+=element\n",
    "print('summe power an regentagen 2020:',summepoweranregentag2020)\n",
    "pwr_2020 = summepoweranregentag2020/len(rain_pwr_2020)\n",
    "print('Durchschnittspower an Regentag in 2020:',pwr_2020)"
   ]
  },
  {
   "cell_type": "markdown",
   "id": "06dacf7b-2ab3-406d-88a4-c3e26f76039c",
   "metadata": {},
   "source": [
    "#powerschnitt regentag 2021"
   ]
  },
  {
   "cell_type": "code",
   "execution_count": 10,
   "id": "ec6d1687-feab-4dd7-9bd5-9933e4d2e66d",
   "metadata": {},
   "outputs": [
    {
     "name": "stdout",
     "output_type": "stream",
     "text": [
      "[87677, 78725, 79219, 95498, 86355, 106779, 56889, 75355]\n",
      "summe power an regentagen 2021: 666497\n",
      "Durchschnittspower an Regentag in 2021: 83312.125\n"
     ]
    }
   ],
   "source": [
    "rain_pwr_2021=[]\n",
    "for k in range(31):\n",
    "    if rain_day_2021[k] ==1:\n",
    "        rain_pwr_2021.append(power_list_2021[k])\n",
    "print (rain_pwr_2021)\n",
    "\n",
    "summepoweranregentag2021=0\n",
    "for element in rain_pwr_2021:\n",
    "    summepoweranregentag2021+=element\n",
    "print('summe power an regentagen 2021:',summepoweranregentag2021)\n",
    "pwr_2021 = summepoweranregentag2021/len(rain_pwr_2021)\n",
    "print('Durchschnittspower an Regentag in 2021:',pwr_2021)"
   ]
  },
  {
   "cell_type": "markdown",
   "id": "a8d7d6bb-77ff-4775-881e-b4c15615a369",
   "metadata": {},
   "source": [
    "# Modelle trainieren"
   ]
  },
  {
   "cell_type": "markdown",
   "id": "ecc4d32e",
   "metadata": {},
   "source": [
    "**Random Forest Regressor**\n",
    "Idee: Vorhersage Power-Output "
   ]
  },
  {
   "cell_type": "code",
   "execution_count": 12,
   "id": "c8b2e9bd",
   "metadata": {},
   "outputs": [
    {
     "name": "stdout",
     "output_type": "stream",
     "text": [
      "0.7510768006541811\n"
     ]
    },
    {
     "data": {
      "text/plain": [
       "{'bootstrap': True,\n",
       " 'ccp_alpha': 0.0,\n",
       " 'criterion': 'squared_error',\n",
       " 'max_depth': 2,\n",
       " 'max_features': 'auto',\n",
       " 'max_leaf_nodes': None,\n",
       " 'max_samples': None,\n",
       " 'min_impurity_decrease': 0.0,\n",
       " 'min_samples_leaf': 1,\n",
       " 'min_samples_split': 2,\n",
       " 'min_weight_fraction_leaf': 0.0,\n",
       " 'n_estimators': 100,\n",
       " 'n_jobs': None,\n",
       " 'oob_score': False,\n",
       " 'random_state': 0,\n",
       " 'verbose': 0,\n",
       " 'warm_start': False}"
      ]
     },
     "execution_count": 12,
     "metadata": {},
     "output_type": "execute_result"
    }
   ],
   "source": [
    "#features: rain_list_mm, temp; labels(ground_truth)= power_day\n",
    "\n",
    "from sklearn.ensemble import RandomForestRegressor\n",
    "from sklearn.datasets import make_regression\n",
    "from sklearn import preprocessing\n",
    "from sklearn.model_selection import train_test_split\n",
    "from sklearn.metrics import mean_squared_error, r2_score\n",
    "from sklearn import model_selection\n",
    "from sklearn import linear_model\n",
    "from sklearn.preprocessing import StandardScaler\n",
    "\n",
    "power_day = power_list_2019 + power_list_2020 + power_list_2021\n",
    "rain_list_mm = rain_list_2019 + rain_list_2020 + rain_list_2021\n",
    "features = temp.copy(deep=True)\n",
    "features['rain mm/day']=rain_list_mm\n",
    "features=features.drop(columns=['date'], axis=1)\n",
    "\n",
    "\n",
    "X = features #preprocessing.MinMaxScaler().fit_transform(features)\n",
    "y = power_day\n",
    "scaler = StandardScaler()\n",
    "scaler.fit_transform(X,y)\n",
    "\n",
    "X_train, X_test, y_train, y_test = train_test_split(X, y, test_size=0.2, random_state =1)\n",
    "\n",
    "#X, y = make_regression(n_features=4, n_informative=2, random_state=0, shuffle=False)\n",
    "regr_forest = RandomForestRegressor(max_depth=2, random_state=0, oob_score=True)\n",
    "regr_forest.fit(X_train, y_train)\n",
    "print(regr_forest.score(X_test, y_test))\n",
    "regr_forest.get_params()\n"
   ]
  },
  {
   "cell_type": "markdown",
   "id": "084b608c",
   "metadata": {},
   "source": [
    "oob_score = True! (Für bessere Generalisierung geeignet!)"
   ]
  },
  {
   "cell_type": "markdown",
   "id": "5bd4d2de-1b7a-49dc-b35c-a04182d92bc6",
   "metadata": {},
   "source": [
    "**Vorhersage Power-Output mit linearer Regression**"
   ]
  },
  {
   "cell_type": "code",
   "execution_count": 15,
   "id": "69ab1f29",
   "metadata": {
    "scrolled": true
   },
   "outputs": [
    {
     "name": "stdout",
     "output_type": "stream",
     "text": [
      "{'copy_X': False, 'fit_intercept': True, 'n_jobs': None, 'normalize': 'deprecated', 'positive': False}\n",
      "Coefficients: [4357.54627934  -56.18031223]\n",
      "Intercept: 30929.733922212356\n",
      "Mean squared error (MSE): 183392805.99\n",
      "0.7305936866269174\n"
     ]
    },
    {
     "data": {
      "text/plain": [
       "[<matplotlib.lines.Line2D at 0x18db6ebb1c8>]"
      ]
     },
     "execution_count": 15,
     "metadata": {},
     "output_type": "execute_result"
    },
    {
     "data": {
      "image/png": "[encoded data removed]",
      "text/plain": [
       "<Figure size 432x288 with 1 Axes>"
      ]
     },
     "metadata": {
      "needs_background": "light"
     },
     "output_type": "display_data"
    }
   ],
   "source": [
    "\n",
    "reg = linear_model.LinearRegression()\n",
    "\n",
    "\n",
    "reg.fit(X_train, y_train)\n",
    "y_pred = reg.predict(X_test)\n",
    "\n",
    "print(reg.get_params())\n",
    "print(f'Coefficients: {reg.coef_}')\n",
    "print(f'Intercept: {reg.intercept_}')\n",
    "print('Mean squared error (MSE): %.2f' % mean_squared_error(y_test, y_pred))\n",
    "\n",
    "print(reg.score(X_test, y_test))\n",
    "plt.plot(y_test)\n",
    "plt.plot(y_pred)"
   ]
  },
  {
   "cell_type": "markdown",
   "id": "7f7200f0",
   "metadata": {},
   "source": [
    "Score springt wie vorher R2 Score von um die 0 bis an die 0.75 je nach train_testsplit (bei gesetzem random_state konstant bei 0.75).\n",
    "Unterschiedliche Scaler oder das Ändern der Parametereinstellungen bei der LinearRegression-Funktion bringen keinen weiteren signifikanten Unterschied."
   ]
  },
  {
   "cell_type": "markdown",
   "id": "f236a6df",
   "metadata": {},
   "source": [
    "**Vorhersage Power-Output mit MLP Regressor**\n",
    "Idee: Vorhersage Power-Output 2021"
   ]
  },
  {
   "cell_type": "code",
   "execution_count": 64,
   "id": "85c2deb3",
   "metadata": {
    "scrolled": true
   },
   "outputs": [
    {
     "name": "stdout",
     "output_type": "stream",
     "text": [
      "[120889.7648498  119233.49525714 115920.95607182 120613.71991769\n",
      " 124478.34896723 113988.64154705 107087.5182443  115644.91113971\n",
      " 125858.57362778 114264.68647916 125858.57362778 113988.64154705\n",
      "  76776.77467888 120889.7648498   92787.38074126  91959.24594493\n",
      " 124754.39389934 118957.45032503 120337.67498558 121993.94457824\n",
      "  94443.65033392  87818.57196328 108743.78783696 111504.23715806\n",
      "  93339.47060548 120613.71991769  77604.90947521 123650.2141709\n",
      " 121993.94457824  93339.47060548 107915.65304063] {'activation': 'relu', 'alpha': 100000, 'batch_size': 'auto', 'beta_1': 0.9, 'beta_2': 0.999, 'early_stopping': False, 'epsilon': 1e-08, 'hidden_layer_sizes': (100,), 'learning_rate': 'constant', 'learning_rate_init': 0.001, 'max_fun': 15000, 'max_iter': 80, 'momentum': 0.9, 'n_iter_no_change': 10, 'nesterovs_momentum': True, 'power_t': 0.5, 'random_state': 1, 'shuffle': True, 'solver': 'lbfgs', 'tol': 0.0001, 'validation_fraction': 0.1, 'verbose': False, 'warm_start': True}\n"
     ]
    },
    {
     "data": {
      "text/plain": [
       "0.5682595651580458"
      ]
     },
     "execution_count": 64,
     "metadata": {},
     "output_type": "execute_result"
    }
   ],
   "source": [
    "##DATA-Preparing##\n",
    "#features: rain_day_192021, temp; labels(ground_truth)= power_day\n",
    "from sklearn import preprocessing\n",
    "\n",
    "power_day = power_list_2019 + power_list_2020\n",
    "rain_day_1920 = rain_day_2019+rain_day_2020\n",
    "i=0\n",
    "\n",
    "#Regen + Temperatur 2019 + 2020 (X-Train)\n",
    "list=[]\n",
    "for i in range(62,93):\n",
    "    list.append(i)\n",
    "    i=i+1\n",
    "    \n",
    "features_1920 = temp.copy(deep=True)\n",
    "features_1920 = features_1920.drop(labels=list, axis=0)\n",
    "features_1920['rain']=rain_day_1920\n",
    "features_1920['rain']=rain_day_1920\n",
    "features_1920=features_1920.drop(columns=['date'], axis=1)\n",
    "\n",
    "#Regen + Temperatur 2021 (X-Test)\n",
    "list=[]\n",
    "for i in range(31,93):\n",
    "    list.append(i)\n",
    "    i=i+1\n",
    "\n",
    "features_21 = temp.copy(deep=True)\n",
    "features_21 = features_21.drop(labels=list, axis=0)\n",
    "features_21['rain']=rain_day_2021\n",
    "features_21=features_21.drop(columns=['date'], axis=1)\n",
    "\n",
    "X_train = preprocessing.MinMaxScaler().fit_transform(features_1920)\n",
    "X_test = preprocessing.MinMaxScaler().fit_transform(features_21)\n",
    "y_train = power_day\n",
    "y_test = power_list_2021\n",
    "\n",
    "\n",
    "#MLP Regressor\n",
    "from sklearn.neural_network import MLPRegressor \n",
    "\n",
    "regr = MLPRegressor(random_state=1, max_iter=80, solver='lbfgs', warm_start=True, activation = 'relu', hidden_layer_sizes = (100,), alpha = 100000).fit(X_train, y_train)\n",
    "print(regr.predict(X_test), regr.get_params())\n",
    "regr.score(X_test, y_test)"
   ]
  },
  {
   "attachments": {},
   "cell_type": "markdown",
   "id": "87ffcc07",
   "metadata": {},
   "source": [
    "Score des MLP Regressors um Power-Output 2021 vorherzugen ist von 52% auf 56% gestiegen durch anpassen vom alpha score und den max_iter."
   ]
  },
  {
   "cell_type": "markdown",
   "id": "1f7d49da",
   "metadata": {},
   "source": [
    "**MLP Regressor Accuracy Score**\n",
    "Idee: Power-Output mit Temperatur und Regen vorhersagen "
   ]
  },
  {
   "cell_type": "code",
   "execution_count": 72,
   "id": "dc0c7b0d",
   "metadata": {
    "scrolled": true
   },
   "outputs": [
    {
     "name": "stdout",
     "output_type": "stream",
     "text": [
      "Prediction\n",
      " [121755.15785616582, 92092.69917569715, 122002.88714007784, 122622.21034985785, 78263.2213381015, 90709.74719447568, 124851.77390506591, 124356.31533724192, 80337.64231416387, 121259.69928834181, 122126.75178203384, 123984.72141137389, 125223.36783093393, 124480.1799791979, 121755.15785616582, 121631.29321420983, 125999.54765285617, 121011.97000442981, 123241.53355963786]\n"
     ]
    },
    {
     "data": {
      "text/plain": [
       "0.7247923992364851"
      ]
     },
     "execution_count": 72,
     "metadata": {},
     "output_type": "execute_result"
    }
   ],
   "source": [
    "#features: rain_day_192021, temp; labels(ground_truth)= power_day\n",
    "\n",
    "from sklearn.model_selection import train_test_split\n",
    "from sklearn import preprocessing\n",
    "\n",
    "power_day = power_list_2019 + power_list_2020 + power_list_2021\n",
    "features = temp.copy(deep=True)\n",
    "features['rain']=rain_day_192021\n",
    "features=features.drop(columns=['date'], axis=1)\n",
    "\n",
    "X = preprocessing.MinMaxScaler().fit_transform(features)\n",
    "y = power_day\n",
    "\n",
    "\n",
    "\n",
    "X_train, X_test, y_train, y_test = train_test_split(X, y, test_size=0.2, random_state=1)\n",
    "\n",
    "#MLP Regressor\n",
    "from sklearn.neural_network import MLPRegressor\n",
    "\n",
    "regr = MLPRegressor(random_state=1, max_iter=500, solver='lbfgs', warm_start=True).fit(X_train, y_train)\n",
    "predict=regr.predict(X_test).tolist()\n",
    "print('Prediction\\n', predict)\n",
    "regr.score(X_test, y_test) "
   ]
  },
  {
   "cell_type": "markdown",
   "id": "a0a5ae85",
   "metadata": {},
   "source": [
    "**MLP Regressor Accuracy Score** Idee: Regenvorhersage mit Temperatur (und Power)"
   ]
  },
  {
   "cell_type": "code",
   "execution_count": 66,
   "id": "fc7c3b26",
   "metadata": {},
   "outputs": [
    {
     "data": {
      "text/plain": [
       "0.999190424391629"
      ]
     },
     "execution_count": 66,
     "metadata": {},
     "output_type": "execute_result"
    }
   ],
   "source": [
    "#features: temp, (Power pro Tag); labels(ground_truth)= rain_day_192021\n",
    "\n",
    "power_day = power_list_2019 + power_list_2020 + power_list_2021\n",
    "\n",
    "from sklearn import preprocessing\n",
    "from sklearn.model_selection import train_test_split\n",
    "\n",
    "features = temp.copy(deep=True)\n",
    "features['power']=power_day\n",
    "features=features.drop(columns=['date'], axis=1)\n",
    "\n",
    "\n",
    "X = preprocessing.MinMaxScaler().fit_transform(features)\n",
    "y = rain_day_192021\n",
    "\n",
    "X_train, X_test, y_train, y_test = train_test_split(X, y, test_size=0.2, random_state=1)\n",
    "\n",
    "#MLP Regressor\n",
    "from sklearn.neural_network import MLPRegressor\n",
    "\n",
    "regr = MLPRegressor(random_state=1, max_iter=500, solver='lbfgs', warm_start=True).fit(X_train, y_train)\n",
    "regr.score(X_test, y_test) "
   ]
  },
  {
   "cell_type": "markdown",
   "id": "585a5cef",
   "metadata": {},
   "source": [
    "Score hält sich die meiste Zeit über 60% auf, schwankt jedoch weit aus mehr als beim Classifier. Grund: testsplit\n",
    "\n",
    "Mit gesetztem random state bei testsplit -> R_2 = ~99.9%\n",
    "Ohne Power Daten Score bei ~90%."
   ]
  },
  {
   "cell_type": "markdown",
   "id": "f92aeb61",
   "metadata": {},
   "source": [
    "**MLP Classifier mit Accuracy Score** Idee: Regenvorhersage mit Temperatur (und Power)"
   ]
  },
  {
   "cell_type": "code",
   "execution_count": 77,
   "id": "c88971d2",
   "metadata": {
    "scrolled": true
   },
   "outputs": [
    {
     "name": "stdout",
     "output_type": "stream",
     "text": [
      "Accuracy auf den Trainingsdaten 0.7702702702702703\n",
      "Accuracy auf den Testdaten: 0.7894736842105263\n"
     ]
    }
   ],
   "source": [
    "#features: temp, (Power pro Tag); labels(ground_truth)= rain_day_192021\n",
    "\n",
    "\n",
    "from sklearn import model_selection\n",
    "from sklearn import linear_model\n",
    "from sklearn import ensemble\n",
    "from sklearn import preprocessing\n",
    "from sklearn.neural_network import MLPClassifier\n",
    "\n",
    "power_day = power_list_2019 + power_list_2020 + power_list_2021\n",
    "\n",
    "features = temp.copy(deep=True)\n",
    "features['power']=power_day\n",
    "features=features.drop(columns=['date'], axis=1)\n",
    "\n",
    "X = features\n",
    "y = rain_day_192021\n",
    "\n",
    "\n",
    "X_train, X_test, y_train, y_test = train_test_split(X, y, test_size=0.2, random_state=1)\n",
    "\n",
    "clf = MLPClassifier(solver='lbfgs', hidden_layer_sizes=(5, 20, 15), random_state=1, max_iter=50000)\n",
    "clf.fit(X_train, y_train)\n",
    "print('Accuracy auf den Trainingsdaten',clf.score(X_train, y_train))\n",
    "print('Accuracy auf den Testdaten:',clf.score(X_test, y_test))"
   ]
  },
  {
   "cell_type": "markdown",
   "id": "5bf923bb",
   "metadata": {},
   "source": [
    "**MLP Classifier mit predict**\n",
    "Idee: Regenvorhersage des Monats 2021"
   ]
  },
  {
   "cell_type": "code",
   "execution_count": 78,
   "id": "3530e658",
   "metadata": {},
   "outputs": [
    {
     "name": "stdout",
     "output_type": "stream",
     "text": [
      "Monat Juli 2021 vorhergesagt: [0, 0, 0, 0, 0, 1, 1, 0, 0, 1, 0, 1, 1, 0, 0, 0, 0, 0, 0, 0, 0, 0, 1, 1, 0, 0, 1, 0, 0, 0, 1]\n",
      "Monat Juli 2021 aus Datenset: [0, 0, 0, 0, 0, 0, 0, 0, 0, 0, 0, 0, 1, 0, 1, 1, 0, 0, 0, 0, 1, 1, 0, 0, 1, 0, 1, 0, 0, 1, 0]\n",
      "Anzahl der Matches durch die Anzahl der Tage: 0.58\n"
     ]
    }
   ],
   "source": [
    "from sklearn import model_selection\n",
    "from sklearn import linear_model\n",
    "from sklearn import ensemble\n",
    "from sklearn import preprocessing\n",
    "from sklearn.neural_network import MLPClassifier\n",
    "\n",
    "#power_day = power_list_2019 + power_list_2020\n",
    "rain_day_1920 = rain_day_2019+rain_day_2020\n",
    "\n",
    "#Temperatur 2019 + 2020 (X-Train)\n",
    "i=0\n",
    "list=[]\n",
    "for i in range(62,93):\n",
    "    list.append(i)\n",
    "    i=i+1\n",
    "    \n",
    "features_1920 = temp.copy(deep=True)\n",
    "features_1920 = features_1920.drop(labels=list, axis=0)\n",
    "features_1920=features_1920.drop(columns=['date'], axis=1)\n",
    "\n",
    "#Temperatur 2021 (X-Test)\n",
    "list=[]\n",
    "for i in range(31,93):\n",
    "    list.append(i)\n",
    "    i=i+1\n",
    "\n",
    "features_21 = temp.copy(deep=True)\n",
    "features_21 = features_21.drop(labels=list, axis=0)\n",
    "features_21=features_21.drop(columns=['date'], axis=1)\n",
    "\n",
    "X_train = preprocessing.MinMaxScaler().fit_transform(features_1920)\n",
    "X_test = preprocessing.MinMaxScaler().fit_transform(features_21)\n",
    "y_train = rain_day_1920\n",
    "y_test = rain_day_2021\n",
    "\n",
    "clf = MLPClassifier(solver='lbfgs', hidden_layer_sizes=(5, 20, 15), random_state=1, max_iter=10000)\n",
    "clf.fit(X_train, y_train)\n",
    "predict=clf.predict(X_test).tolist()\n",
    "print('Monat Juli 2021 vorhergesagt:',predict)\n",
    "print('Monat Juli 2021 aus Datenset:',y_test)\n",
    "i=0\n",
    "match=0\n",
    "for i in range(31):\n",
    "    if predict[i] == y_test[i]:\n",
    "        match = match + 1\n",
    "        i=i+1\n",
    "print(f'Anzahl der Matches durch die Anzahl der Tage: {match/31:3.2f}')"
   ]
  },
  {
   "cell_type": "code",
   "execution_count": 76,
   "id": "a5a26657-d9d2-4bf5-95bd-cbe534726a5b",
   "metadata": {},
   "outputs": [
    {
     "name": "stdout",
     "output_type": "stream",
     "text": [
      "Monat Juli 2021 vorhergesagt: [120683.10820800648, 120683.10820800648, 120683.10820800648, 120683.10820800648, 120683.10820800648, 120683.10820800648, 120683.10820800648, 120683.10820800648, 120683.10820800648, 120683.10820800648, 120683.10820800648, 120683.10820800648, 87144.06344126783, 120683.10820800648, 68458.02421408489, 70614.10566337523, 120683.10820800648, 120683.10820800648, 120683.10820800648, 120683.10820800648, 90258.40331246503, 60791.95683883035, 120683.10820800648, 120683.10820800648, 102715.76279725364, 120683.10820800648, 48735.976136499456, 120683.10820800648, 120683.10820800648, 51466.407604077394, 120683.10820800648]\n",
      "Monat Juli 2021 aus Datenset: [119675, 132449, 95060, 107025, 113129, 123770, 137316, 136099, 124071, 115346, 125286, 114967, 87677, 135673, 78725, 79219, 126434, 133701, 112069, 137387, 95498, 86355, 126147, 125626, 106779, 124601, 56889, 152846, 143659, 75355, 128984]\n",
      "\n",
      "Liste der Abweichungen: [1008.1082080064807, -11765.89179199352, 25623.10820800648, 13658.10820800648, 7554.108208006481, -3086.8917919935193, -16632.89179199352, -15415.89179199352, -3387.8917919935193, 5337.108208006481, -4602.891791993519, 5716.108208006481, -532.9365587321663, -14989.89179199352, -10266.975785915114, -8604.89433662477, -5750.891791993519, -13017.89179199352, 8614.10820800648, -16703.89179199352, -5239.5966875349695, -25563.043161169648, -5463.891791993519, -4942.891791993519, -4063.237202746357, -3917.8917919935193, -8153.023863500544, -32162.89179199352, -22975.89179199352, -23888.592395922606, -8300.89179199352]\n",
      "Schnittabweichung: -6513.574555096681 Watt\n"
     ]
    }
   ],
   "source": [
    "from sklearn import model_selection\n",
    "from sklearn import linear_model\n",
    "from sklearn import ensemble\n",
    "from sklearn import preprocessing\n",
    "from sklearn.neural_network import MLPRegressor\n",
    "rain_list_1920 = rain_list_2019 + rain_list_2020\n",
    "power_list_1920 = power_list_2019 + power_list_2020\n",
    "#Regen 2019 2020 (X-Train)\n",
    "features_rain_1920 = pd.DataFrame(rain_list_1920)\n",
    "\n",
    "#Regen 2021 (X-Test)\n",
    "features_rain_21 = pd.DataFrame(rain_list_2021)\n",
    "\n",
    "X_train = preprocessing.MinMaxScaler().fit_transform(features_rain_1920)\n",
    "X_test = preprocessing.MinMaxScaler().fit_transform(features_rain_21)\n",
    "y_train = power_list_1920\n",
    "y_test = power_list_2021\n",
    "\n",
    "clf = MLPRegressor(solver='lbfgs', hidden_layer_sizes=(5, 20, 15), random_state=1, max_iter=10000)\n",
    "clf.fit(X_train, y_train)\n",
    "#real_input=[[4]] echter Input\n",
    "predict=clf.predict(X_test).tolist()\n",
    "print('Monat Juli 2021 vorhergesagt:',predict)\n",
    "print('Monat Juli 2021 aus Datenset:',y_test)\n",
    "\n",
    "#Abweichung Vorhersage von Ground Truth\n",
    "i=0\n",
    "list_abweichung=[]\n",
    "for i in range(31):\n",
    "    abweichung=predict[i]-y_test[i]\n",
    "    list_abweichung.append(abweichung)\n",
    "    i=i+1\n",
    "print(\"\\nListe der Abweichungen:\", list_abweichung)\n",
    "\n",
    "#Abweichung im Durchschnitt\n",
    "schnitt_abweichung=0\n",
    "for i in list_abweichung:\n",
    "    schnitt_abweichung+=i\n",
    "print(f\"Schnittabweichung: {schnitt_abweichung/31} Watt\")"
   ]
  },
  {
   "cell_type": "markdown",
   "id": "8d635faa-e9b2-48c8-a34c-9c9069a29d44",
   "metadata": {},
   "source": [
    "# Tensorflow fully connected"
   ]
  },
  {
   "cell_type": "code",
   "execution_count": 77,
   "id": "985578a7-b5e0-42eb-9928-39e301550904",
   "metadata": {},
   "outputs": [],
   "source": [
    "import tensorflow as tf\n",
    "from sklearn import preprocessing\n",
    "\n",
    "model=tf.keras.Sequential()\n",
    "model.add(tf.keras.layers.Flatten())\n",
    "model.add(tf.keras.layers.Dense(1000,activation='relu'))\n",
    "model.add(tf.keras.layers.Dense(1000,activation='relu'))\n",
    "model.add(tf.keras.layers.Dense(1000,activation='relu'))\n",
    "model.add(tf.keras.layers.Dense(1000,activation='relu'))\n",
    "model.add(tf.keras.layers.Dense(1000,activation='relu'))\n",
    "model.add(tf.keras.layers.Dense(1000,activation='relu'))\n",
    "model.add(tf.keras.layers.Dense(1))\n",
    "\n",
    "#rain_nn = preprocessing.MinMaxScaler().fit_transform(rain_list_1920)\n",
    "\n",
    "model.compile(optimizer=tf.keras.optimizers.Adam(learning_rate=1e-3), \n",
    "             loss=tf.keras.losses.MeanSquaredError(),\n",
    "             metrics=[tf.keras.metrics.RootMeanSquaredError()])"
   ]
  },
  {
   "cell_type": "code",
   "execution_count": 78,
   "id": "17e3c47f-34e8-42a2-957c-d01be1ea998b",
   "metadata": {
    "jupyter": {
     "outputs_hidden": true
    },
    "tags": []
   },
   "outputs": [
    {
     "name": "stdout",
     "output_type": "stream",
     "text": [
      "Epoch 1/100\n",
      "8/8 [==============================] - 0s 19ms/step - loss: 13251102720.0000 - root_mean_squared_error: 115113.4375\n",
      "Epoch 2/100\n",
      "8/8 [==============================] - 0s 19ms/step - loss: 13394528256.0000 - root_mean_squared_error: 115734.7344\n",
      "Epoch 3/100\n",
      "8/8 [==============================] - 0s 19ms/step - loss: 13014950912.0000 - root_mean_squared_error: 114083.0859\n",
      "Epoch 4/100\n",
      "8/8 [==============================] - 0s 19ms/step - loss: 13178882048.0000 - root_mean_squared_error: 114799.3125\n",
      "Epoch 5/100\n",
      "8/8 [==============================] - 0s 19ms/step - loss: 13164747776.0000 - root_mean_squared_error: 114737.7344\n",
      "Epoch 6/100\n",
      "8/8 [==============================] - 0s 20ms/step - loss: 13014949888.0000 - root_mean_squared_error: 114083.0859\n",
      "Epoch 7/100\n",
      "8/8 [==============================] - 0s 21ms/step - loss: 12747856896.0000 - root_mean_squared_error: 112906.4062\n",
      "Epoch 8/100\n",
      "8/8 [==============================] - 0s 22ms/step - loss: 12764940288.0000 - root_mean_squared_error: 112982.0391\n",
      "Epoch 9/100\n",
      "8/8 [==============================] - 0s 20ms/step - loss: 12701063168.0000 - root_mean_squared_error: 112698.9922\n",
      "Epoch 10/100\n",
      "8/8 [==============================] - 0s 21ms/step - loss: 12697860096.0000 - root_mean_squared_error: 112684.7812\n",
      "Epoch 11/100\n",
      "8/8 [==============================] - 0s 21ms/step - loss: 12685668352.0000 - root_mean_squared_error: 112630.6719\n",
      "Epoch 12/100\n",
      "8/8 [==============================] - 0s 19ms/step - loss: 12658810880.0000 - root_mean_squared_error: 112511.3828\n",
      "Epoch 13/100\n",
      "8/8 [==============================] - 0s 21ms/step - loss: 12614699008.0000 - root_mean_squared_error: 112315.1797\n",
      "Epoch 14/100\n",
      "8/8 [==============================] - 0s 20ms/step - loss: 12859429888.0000 - root_mean_squared_error: 113399.4297\n",
      "Epoch 15/100\n",
      "8/8 [==============================] - 0s 20ms/step - loss: 12774372352.0000 - root_mean_squared_error: 113023.7656\n",
      "Epoch 16/100\n",
      "8/8 [==============================] - 0s 20ms/step - loss: 12847351808.0000 - root_mean_squared_error: 113346.1562\n",
      "Epoch 17/100\n",
      "8/8 [==============================] - 0s 19ms/step - loss: 12625001472.0000 - root_mean_squared_error: 112361.0312\n",
      "Epoch 18/100\n",
      "8/8 [==============================] - 0s 21ms/step - loss: 12809484288.0000 - root_mean_squared_error: 113178.9922\n",
      "Epoch 19/100\n",
      "8/8 [==============================] - 0s 21ms/step - loss: 12805850112.0000 - root_mean_squared_error: 113162.9375\n",
      "Epoch 20/100\n",
      "8/8 [==============================] - 0s 21ms/step - loss: 12669422592.0000 - root_mean_squared_error: 112558.5312\n",
      "Epoch 21/100\n",
      "8/8 [==============================] - 0s 21ms/step - loss: 12617065472.0000 - root_mean_squared_error: 112325.7109\n",
      "Epoch 22/100\n",
      "8/8 [==============================] - 0s 20ms/step - loss: 12479249408.0000 - root_mean_squared_error: 111710.5625\n",
      "Epoch 23/100\n",
      "8/8 [==============================] - 0s 20ms/step - loss: 12364432384.0000 - root_mean_squared_error: 111195.4688\n",
      "Epoch 24/100\n",
      "8/8 [==============================] - 0s 20ms/step - loss: 12217322496.0000 - root_mean_squared_error: 110532.0000\n",
      "Epoch 25/100\n",
      "8/8 [==============================] - 0s 20ms/step - loss: 11559363584.0000 - root_mean_squared_error: 107514.4844\n",
      "Epoch 26/100\n",
      "8/8 [==============================] - 0s 20ms/step - loss: 8026404352.0000 - root_mean_squared_error: 89590.2031\n",
      "Epoch 27/100\n",
      "8/8 [==============================] - 0s 21ms/step - loss: 2824025088.0000 - root_mean_squared_error: 53141.5586\n",
      "Epoch 28/100\n",
      "8/8 [==============================] - 0s 21ms/step - loss: 4556838912.0000 - root_mean_squared_error: 67504.3594\n",
      "Epoch 29/100\n",
      "8/8 [==============================] - 0s 21ms/step - loss: 2054242176.0000 - root_mean_squared_error: 45323.7500\n",
      "Epoch 30/100\n",
      "8/8 [==============================] - 0s 20ms/step - loss: 1544557696.0000 - root_mean_squared_error: 39300.8594\n",
      "Epoch 31/100\n",
      "8/8 [==============================] - 0s 21ms/step - loss: 1708787072.0000 - root_mean_squared_error: 41337.4766\n",
      "Epoch 32/100\n",
      "8/8 [==============================] - 0s 21ms/step - loss: 1131796864.0000 - root_mean_squared_error: 33642.1875\n",
      "Epoch 33/100\n",
      "8/8 [==============================] - 0s 19ms/step - loss: 916665664.0000 - root_mean_squared_error: 30276.4863\n",
      "Epoch 34/100\n",
      "8/8 [==============================] - 0s 21ms/step - loss: 1036450048.0000 - root_mean_squared_error: 32193.9434\n",
      "Epoch 35/100\n",
      "8/8 [==============================] - 0s 22ms/step - loss: 930407680.0000 - root_mean_squared_error: 30502.5840\n",
      "Epoch 36/100\n",
      "8/8 [==============================] - 0s 21ms/step - loss: 945281152.0000 - root_mean_squared_error: 30745.4258\n",
      "Epoch 37/100\n",
      "8/8 [==============================] - 0s 21ms/step - loss: 1044853504.0000 - root_mean_squared_error: 32324.1934\n",
      "Epoch 38/100\n",
      "8/8 [==============================] - 0s 19ms/step - loss: 997363136.0000 - root_mean_squared_error: 31581.0566\n",
      "Epoch 39/100\n",
      "8/8 [==============================] - 0s 20ms/step - loss: 894118528.0000 - root_mean_squared_error: 29901.8145\n",
      "Epoch 40/100\n",
      "8/8 [==============================] - 0s 21ms/step - loss: 888501824.0000 - root_mean_squared_error: 29807.7480\n",
      "Epoch 41/100\n",
      "8/8 [==============================] - 0s 20ms/step - loss: 886275712.0000 - root_mean_squared_error: 29770.3828\n",
      "Epoch 42/100\n",
      "8/8 [==============================] - 0s 19ms/step - loss: 867446272.0000 - root_mean_squared_error: 29452.4414\n",
      "Epoch 43/100\n",
      "8/8 [==============================] - 0s 20ms/step - loss: 888438208.0000 - root_mean_squared_error: 29806.6797\n",
      "Epoch 44/100\n",
      "8/8 [==============================] - 0s 20ms/step - loss: 891094144.0000 - root_mean_squared_error: 29851.1992\n",
      "Epoch 45/100\n",
      "8/8 [==============================] - 0s 23ms/step - loss: 971876416.0000 - root_mean_squared_error: 31174.9316\n",
      "Epoch 46/100\n",
      "8/8 [==============================] - 0s 21ms/step - loss: 1031776704.0000 - root_mean_squared_error: 32121.2812\n",
      "Epoch 47/100\n",
      "8/8 [==============================] - 0s 19ms/step - loss: 906525120.0000 - root_mean_squared_error: 30108.5547\n",
      "Epoch 48/100\n",
      "8/8 [==============================] - 0s 21ms/step - loss: 981108032.0000 - root_mean_squared_error: 31322.6445\n",
      "Epoch 49/100\n",
      "8/8 [==============================] - 0s 20ms/step - loss: 918653696.0000 - root_mean_squared_error: 30309.3008\n",
      "Epoch 50/100\n",
      "8/8 [==============================] - 0s 20ms/step - loss: 886249088.0000 - root_mean_squared_error: 29769.9355\n",
      "Epoch 51/100\n",
      "8/8 [==============================] - 0s 20ms/step - loss: 823050752.0000 - root_mean_squared_error: 28688.8613\n",
      "Epoch 52/100\n",
      "8/8 [==============================] - 0s 21ms/step - loss: 841435392.0000 - root_mean_squared_error: 29007.5059\n",
      "Epoch 53/100\n",
      "8/8 [==============================] - 0s 20ms/step - loss: 840292928.0000 - root_mean_squared_error: 28987.8066\n",
      "Epoch 54/100\n",
      "8/8 [==============================] - 0s 19ms/step - loss: 1396743040.0000 - root_mean_squared_error: 37373.0273\n",
      "Epoch 55/100\n",
      "8/8 [==============================] - 0s 21ms/step - loss: 1285070080.0000 - root_mean_squared_error: 35847.8750\n",
      "Epoch 56/100\n",
      "8/8 [==============================] - 0s 20ms/step - loss: 1148609664.0000 - root_mean_squared_error: 33891.1445\n",
      "Epoch 57/100\n",
      "8/8 [==============================] - 0s 18ms/step - loss: 908229824.0000 - root_mean_squared_error: 30136.8516\n",
      "Epoch 58/100\n",
      "8/8 [==============================] - 0s 18ms/step - loss: 915180224.0000 - root_mean_squared_error: 30251.9453\n",
      "Epoch 59/100\n",
      "8/8 [==============================] - 0s 23ms/step - loss: 857106560.0000 - root_mean_squared_error: 29276.3828\n",
      "Epoch 60/100\n",
      "8/8 [==============================] - 0s 20ms/step - loss: 976836032.0000 - root_mean_squared_error: 31254.3770\n",
      "Epoch 61/100\n",
      "8/8 [==============================] - 0s 22ms/step - loss: 825223616.0000 - root_mean_squared_error: 28726.7051\n",
      "Epoch 62/100\n",
      "8/8 [==============================] - 0s 21ms/step - loss: 884439488.0000 - root_mean_squared_error: 29739.5273\n",
      "Epoch 63/100\n",
      "8/8 [==============================] - 0s 23ms/step - loss: 908113344.0000 - root_mean_squared_error: 30134.9199\n",
      "Epoch 64/100\n",
      "8/8 [==============================] - 0s 22ms/step - loss: 936537984.0000 - root_mean_squared_error: 30602.9082\n",
      "Epoch 65/100\n",
      "8/8 [==============================] - 0s 19ms/step - loss: 971518080.0000 - root_mean_squared_error: 31169.1836\n",
      "Epoch 66/100\n",
      "8/8 [==============================] - 0s 21ms/step - loss: 894407616.0000 - root_mean_squared_error: 29906.6484\n",
      "Epoch 67/100\n",
      "8/8 [==============================] - 0s 20ms/step - loss: 877043072.0000 - root_mean_squared_error: 29614.9121\n",
      "Epoch 68/100\n",
      "8/8 [==============================] - 0s 21ms/step - loss: 865026624.0000 - root_mean_squared_error: 29411.3340\n",
      "Epoch 69/100\n",
      "8/8 [==============================] - 0s 21ms/step - loss: 910350912.0000 - root_mean_squared_error: 30172.0215\n",
      "Epoch 70/100\n",
      "8/8 [==============================] - 0s 22ms/step - loss: 843200832.0000 - root_mean_squared_error: 29037.9199\n",
      "Epoch 71/100\n",
      "8/8 [==============================] - 0s 20ms/step - loss: 869585728.0000 - root_mean_squared_error: 29488.7383\n",
      "Epoch 72/100\n",
      "8/8 [==============================] - 0s 20ms/step - loss: 773735232.0000 - root_mean_squared_error: 27816.0957\n",
      "Epoch 73/100\n",
      "8/8 [==============================] - 0s 19ms/step - loss: 792720512.0000 - root_mean_squared_error: 28155.2930\n",
      "Epoch 74/100\n",
      "8/8 [==============================] - 0s 19ms/step - loss: 762910592.0000 - root_mean_squared_error: 27620.8359\n",
      "Epoch 75/100\n",
      "8/8 [==============================] - 0s 20ms/step - loss: 711728576.0000 - root_mean_squared_error: 26678.2422\n",
      "Epoch 76/100\n",
      "8/8 [==============================] - 0s 19ms/step - loss: 852973056.0000 - root_mean_squared_error: 29205.7031\n",
      "Epoch 77/100\n",
      "8/8 [==============================] - 0s 19ms/step - loss: 717926080.0000 - root_mean_squared_error: 26794.1426\n",
      "Epoch 78/100\n",
      "8/8 [==============================] - 0s 19ms/step - loss: 1100723072.0000 - root_mean_squared_error: 33177.1484\n",
      "Epoch 79/100\n",
      "8/8 [==============================] - 0s 21ms/step - loss: 899099584.0000 - root_mean_squared_error: 29984.9902\n",
      "Epoch 80/100\n",
      "8/8 [==============================] - 0s 20ms/step - loss: 983211392.0000 - root_mean_squared_error: 31356.2012\n",
      "Epoch 81/100\n",
      "8/8 [==============================] - 0s 19ms/step - loss: 873717248.0000 - root_mean_squared_error: 29558.7090\n",
      "Epoch 82/100\n",
      "8/8 [==============================] - 0s 21ms/step - loss: 863462016.0000 - root_mean_squared_error: 29384.7246\n",
      "Epoch 83/100\n",
      "8/8 [==============================] - 0s 20ms/step - loss: 851703168.0000 - root_mean_squared_error: 29183.9531\n",
      "Epoch 84/100\n",
      "8/8 [==============================] - 0s 20ms/step - loss: 728321920.0000 - root_mean_squared_error: 26987.4395\n",
      "Epoch 85/100\n",
      "8/8 [==============================] - 0s 22ms/step - loss: 849596416.0000 - root_mean_squared_error: 29147.8379\n",
      "Epoch 86/100\n",
      "8/8 [==============================] - 0s 19ms/step - loss: 687236352.0000 - root_mean_squared_error: 26215.1934\n",
      "Epoch 87/100\n",
      "8/8 [==============================] - 0s 20ms/step - loss: 623508928.0000 - root_mean_squared_error: 24970.1602\n",
      "Epoch 88/100\n",
      "8/8 [==============================] - 0s 22ms/step - loss: 620783104.0000 - root_mean_squared_error: 24915.5195\n",
      "Epoch 89/100\n",
      "8/8 [==============================] - 0s 20ms/step - loss: 1153889664.0000 - root_mean_squared_error: 33968.9531\n",
      "Epoch 90/100\n",
      "8/8 [==============================] - 0s 21ms/step - loss: 1084982528.0000 - root_mean_squared_error: 32939.0742\n",
      "Epoch 91/100\n",
      "8/8 [==============================] - 0s 19ms/step - loss: 979979392.0000 - root_mean_squared_error: 31304.6230\n",
      "Epoch 92/100\n",
      "8/8 [==============================] - 0s 20ms/step - loss: 945986432.0000 - root_mean_squared_error: 30756.8926\n",
      "Epoch 93/100\n",
      "8/8 [==============================] - 0s 20ms/step - loss: 948330624.0000 - root_mean_squared_error: 30794.9766\n",
      "Epoch 94/100\n",
      "8/8 [==============================] - 0s 20ms/step - loss: 927333312.0000 - root_mean_squared_error: 30452.1484\n",
      "Epoch 95/100\n",
      "8/8 [==============================] - 0s 21ms/step - loss: 923922688.0000 - root_mean_squared_error: 30396.0957\n",
      "Epoch 96/100\n",
      "8/8 [==============================] - 0s 20ms/step - loss: 1028191040.0000 - root_mean_squared_error: 32065.4180\n",
      "Epoch 97/100\n",
      "8/8 [==============================] - 0s 21ms/step - loss: 1083517568.0000 - root_mean_squared_error: 32916.8281\n",
      "Epoch 98/100\n",
      "8/8 [==============================] - 0s 20ms/step - loss: 948597888.0000 - root_mean_squared_error: 30799.3164\n",
      "Epoch 99/100\n",
      "8/8 [==============================] - 0s 21ms/step - loss: 1026472128.0000 - root_mean_squared_error: 32038.6035\n",
      "Epoch 100/100\n",
      "8/8 [==============================] - 0s 21ms/step - loss: 900606656.0000 - root_mean_squared_error: 30010.1094\n"
     ]
    },
    {
     "data": {
      "text/plain": [
       "<tensorflow.python.keras.callbacks.History at 0x16f4d698e88>"
      ]
     },
     "execution_count": 78,
     "metadata": {},
     "output_type": "execute_result"
    }
   ],
   "source": [
    "model.fit(rain_list_1920, power_list_1920, epochs=100, batch_size=8)"
   ]
  },
  {
   "cell_type": "code",
   "execution_count": 79,
   "id": "e1686e55-b8db-4520-b933-8072395e37e4",
   "metadata": {},
   "outputs": [
    {
     "data": {
      "text/plain": [
       "[1142809344.0, 33805.46484375]"
      ]
     },
     "execution_count": 79,
     "metadata": {},
     "output_type": "execute_result"
    }
   ],
   "source": [
    "model.evaluate(x=rain_list_2021, y=power_list_2021, verbose=False)"
   ]
  },
  {
   "cell_type": "code",
   "execution_count": 80,
   "id": "e81c4113-8f77-4471-a610-cc4209dd9d4c",
   "metadata": {},
   "outputs": [
    {
     "name": "stdout",
     "output_type": "stream",
     "text": [
      "Model: \"sequential_2\"\n",
      "_________________________________________________________________\n",
      "Layer (type)                 Output Shape              Param #   \n",
      "=================================================================\n",
      "flatten_2 (Flatten)          (None, 1)                 0         \n",
      "_________________________________________________________________\n",
      "dense_14 (Dense)             (None, 1000)              2000      \n",
      "_________________________________________________________________\n",
      "dense_15 (Dense)             (None, 1000)              1001000   \n",
      "_________________________________________________________________\n",
      "dense_16 (Dense)             (None, 1000)              1001000   \n",
      "_________________________________________________________________\n",
      "dense_17 (Dense)             (None, 1000)              1001000   \n",
      "_________________________________________________________________\n",
      "dense_18 (Dense)             (None, 1000)              1001000   \n",
      "_________________________________________________________________\n",
      "dense_19 (Dense)             (None, 1000)              1001000   \n",
      "_________________________________________________________________\n",
      "dense_20 (Dense)             (None, 1)                 1001      \n",
      "=================================================================\n",
      "Total params: 5,008,001\n",
      "Trainable params: 5,008,001\n",
      "Non-trainable params: 0\n",
      "_________________________________________________________________\n"
     ]
    }
   ],
   "source": [
    "model.summary()"
   ]
  }
 ],
 "metadata": {
  "kernelspec": {
   "display_name": "Python 3 (ipykernel)",
   "language": "python",
   "name": "python3"
  },
  "language_info": {
   "codemirror_mode": {
    "name": "ipython",
    "version": 3
   },
   "file_extension": ".py",
   "mimetype": "text/x-python",
   "name": "python",
   "nbconvert_exporter": "python",
   "pygments_lexer": "ipython3",
   "version": "3.7.11"
  }
 },
 "nbformat": 4,
 "nbformat_minor": 5
}
